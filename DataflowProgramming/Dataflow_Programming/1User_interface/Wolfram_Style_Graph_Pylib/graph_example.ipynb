{
 "cells": [
  {
   "cell_type": "code",
   "execution_count": 1,
   "metadata": {},
   "outputs": [
    {
     "name": "stdout",
     "output_type": "stream",
     "text": [
      "==================================================\n",
      "GRAPH CONSTRUCTION EXAMPLES\n",
      "==================================================\n",
      "\n",
      "Example 1: Basic Graph\n",
      "Graph with 5 vertices and 5 edges\n",
      "Vertices: [1, 2, 3, 4, 5]\n",
      "Edges: [(1, 2), (1, 5), (2, 3), (3, 4), (4, 5)]\n",
      "\n",
      "Example 2: Directed Graph\n",
      "Graph with 5 vertices and 4 edges\n",
      "Edges with weights: [(1, 2, 1), (2, 3, 1), (3, 4, 1), (4, 5, 1)]\n"
     ]
    },
    {
     "name": "stderr",
     "output_type": "stream",
     "text": [
      "/media/lingzhi/Flash/Code/Simulation-CS2/Dataflow_Programming/1User_interface/Wolfram_Style_Graph_Pylib/wolfram_graph_py/graph.py:105: UserWarning: This figure includes Axes that are not compatible with tight_layout, so results might be incorrect.\n",
      "  plt.tight_layout()\n"
     ]
    },
    {
     "name": "stdout",
     "output_type": "stream",
     "text": [
      "\n",
      "Example 3: Weighted Graph\n",
      "Graph with 4 vertices and 4 edges\n",
      "Edges with weights: [(1, 2, 0.5), (1, 4, 0.8), (2, 3, 1.2), (3, 4, 2.1)]\n",
      "\n",
      "Example 4: CompleteGraph\n",
      "Graph with 5 vertices and 10 edges\n",
      "Number of edges in K5: 10 (should be 10)\n",
      "\n",
      "Example 5: CycleGraph\n",
      "Graph with 6 vertices and 6 edges\n",
      "Edges of C6: [(1, 2), (1, 6), (2, 3), (3, 4), (4, 5), (5, 6)]\n",
      "\n",
      "Example 6: PathGraph\n",
      "Graph with 7 vertices and 6 edges\n",
      "Edges of P7: [(1, 2), (2, 3), (3, 4), (4, 5), (5, 6), (6, 7)]\n",
      "\n",
      "Example 7: StarGraph\n",
      "Graph with 8 vertices and 7 edges\n",
      "Edges of S8: [(1, 2), (1, 3), (1, 4), (1, 5), (1, 6), (1, 7), (1, 8)]\n",
      "\n",
      "Example 8: WheelGraph\n",
      "Graph with 6 vertices and 10 edges\n",
      "Edges of W6: [(1, 2), (1, 3), (1, 4), (1, 5), (1, 6), (2, 3), (2, 6), (3, 4), (4, 5), (5, 6)]\n",
      "\n",
      "Example 9: GridGraph\n",
      "Graph with 12 vertices and 17 edges\n",
      "Number of vertices in 3x4 grid: 12\n",
      "\n",
      "Example 10: RandomGraph\n",
      "Graph with 10 vertices and 13 edges\n",
      "Number of edges in random graph: 13\n",
      "\n",
      "Example 11: DirectedGraph\n",
      "Graph with 5 vertices and 6 edges\n",
      "Is directed: True\n",
      "\n",
      "Example 12: BipartiteGraph\n",
      "Graph with 6 vertices and 6 edges\n",
      "\n",
      "Example 13: CompleteBipartiteGraph\n",
      "Graph with 6 vertices and 9 edges\n",
      "Number of edges in K3,3: 9 (should be 9)\n",
      "\n",
      "==================================================\n",
      "GRAPH PROPERTIES AND OPERATIONS\n",
      "==================================================\n",
      "\n",
      "Example 14: adjacency_matrix\n",
      "Adjacency Matrix:\n",
      "[[0 1 1 1]\n",
      " [1 0 1 0]\n",
      " [1 1 0 1]\n",
      " [1 0 1 0]]\n",
      "\n",
      "Example 15: degree\n",
      "Degree of vertex 1: 3\n",
      "Degrees of all vertices: {1: 3, 2: 2, 3: 3, 4: 2}\n",
      "\n",
      "Example 16: ShortestPath\n",
      "Shortest path from 1 to 5: [1, 2, 4, 5]\n",
      "\n",
      "Example 17: ConnectedComponents\n",
      "Connected components: [[1, 2, 3], [4, 5], [6]]\n",
      "\n",
      "Example 18: IsConnected\n",
      "Is connected_graph connected? True\n",
      "Is disconnected_graph connected? False\n",
      "\n",
      "Example 19: Distance\n",
      "Distance from 1 to 3: 2\n",
      "Distance from 1 to 5: 4\n",
      "\n",
      "Example 20: GraphUnion\n",
      "Graph with 6 vertices and 3 edges\n",
      "Edges in union graph: [(0, 1), (1, 2), (3, 5)]\n",
      "\n",
      "Example 21: GraphProduct (Cartesian)\n",
      "Graph with 6 vertices and 7 edges\n",
      "Vertices in product graph: [(1, 1), (1, 2), (2, 1), (2, 2), (3, 1), (3, 2)]\n"
     ]
    },
    {
     "name": "stderr",
     "output_type": "stream",
     "text": [
      "/media/lingzhi/Flash/Code/Simulation-CS2/Dataflow_Programming/1User_interface/Wolfram_Style_Graph_Pylib/wolfram_graph_py/graph.py:105: UserWarning: This figure includes Axes that are not compatible with tight_layout, so results might be incorrect.\n",
      "  plt.tight_layout()\n"
     ]
    },
    {
     "name": "stdout",
     "output_type": "stream",
     "text": [
      "\n",
      "Example 22: GraphComplement\n",
      "Edges in C5: [(1, 2), (1, 5), (2, 3), (3, 4), (4, 5)]\n",
      "Edges in complement of C5: [(1, 3), (1, 4), (2, 4), (2, 5), (3, 5)]\n",
      "\n",
      "==================================================\n",
      "SPECIALIZED GRAPH ALGORITHMS\n",
      "==================================================\n",
      "\n",
      "Example 23: MinimumSpanningTree\n",
      "Graph with 5 vertices and 4 edges\n",
      "Edges in MST: [(1, 3, 1.0), (1, 2, 2.0), (3, 4, 1.5), (4, 5, 0.5)]\n",
      "\n",
      "Example 24: TopologicalSort\n",
      "Topological sorting: [1, 2, 3, 4, 5, 6]\n",
      "\n",
      "Example 25: StronglyConnectedComponents\n",
      "Strongly connected components: [[4, 5, 6], [1, 2, 3]]\n"
     ]
    },
    {
     "name": "stderr",
     "output_type": "stream",
     "text": [
      "/media/lingzhi/Flash/Code/Simulation-CS2/Dataflow_Programming/1User_interface/Wolfram_Style_Graph_Pylib/wolfram_graph_py/graph.py:93: RuntimeWarning: More than 20 figures have been opened. Figures created through the pyplot interface (`matplotlib.pyplot.figure`) are retained until explicitly closed and may consume too much memory. (To control this warning, see the rcParam `figure.max_open_warning`). Consider using `matplotlib.pyplot.close()`.\n",
      "  plt.figure(figsize=kwargs.get('figsize', (8, 6)))\n",
      "/tmp/ipykernel_250766/1772119966.py:281: RuntimeWarning: More than 20 figures have been opened. Figures created through the pyplot interface (`matplotlib.pyplot.figure`) are retained until explicitly closed and may consume too much memory. (To control this warning, see the rcParam `figure.max_open_warning`). Consider using `matplotlib.pyplot.close()`.\n",
      "  plt.figure(figsize=(8, 6))\n"
     ]
    },
    {
     "name": "stdout",
     "output_type": "stream",
     "text": [
      "\n",
      "Example 26: PageRank\n",
      "PageRank values:\n",
      "  Node 1: 0.3374\n",
      "  Node 2: 0.1809\n",
      "  Node 3: 0.2578\n",
      "  Node 4: 0.2239\n",
      "\n",
      "Example 27: Dijkstra\n",
      "Shortest distances from node 1:\n",
      "  To node 1: 0\n",
      "  To node 2: 1\n",
      "  To node 3: 3\n",
      "  To node 4: 3\n",
      "  To node 5: 4\n",
      "\n",
      "All examples completed!\n"
     ]
    },
    {
     "data": {
      "text/plain": [
       "<Figure size 800x600 with 0 Axes>"
      ]
     },
     "metadata": {},
     "output_type": "display_data"
    },
    {
     "data": {
      "text/plain": [
       "<Figure size 800x600 with 0 Axes>"
      ]
     },
     "metadata": {},
     "output_type": "display_data"
    },
    {
     "data": {
      "text/plain": [
       "<Figure size 800x600 with 0 Axes>"
      ]
     },
     "metadata": {},
     "output_type": "display_data"
    },
    {
     "data": {
      "text/plain": [
       "<Figure size 800x600 with 0 Axes>"
      ]
     },
     "metadata": {},
     "output_type": "display_data"
    },
    {
     "data": {
      "text/plain": [
       "<Figure size 800x600 with 0 Axes>"
      ]
     },
     "metadata": {},
     "output_type": "display_data"
    },
    {
     "data": {
      "text/plain": [
       "<Figure size 800x600 with 0 Axes>"
      ]
     },
     "metadata": {},
     "output_type": "display_data"
    },
    {
     "data": {
      "text/plain": [
       "<Figure size 800x600 with 0 Axes>"
      ]
     },
     "metadata": {},
     "output_type": "display_data"
    },
    {
     "data": {
      "text/plain": [
       "<Figure size 800x600 with 0 Axes>"
      ]
     },
     "metadata": {},
     "output_type": "display_data"
    },
    {
     "data": {
      "text/plain": [
       "<Figure size 800x600 with 0 Axes>"
      ]
     },
     "metadata": {},
     "output_type": "display_data"
    },
    {
     "data": {
      "text/plain": [
       "<Figure size 800x600 with 0 Axes>"
      ]
     },
     "metadata": {},
     "output_type": "display_data"
    },
    {
     "data": {
      "text/plain": [
       "<Figure size 800x600 with 0 Axes>"
      ]
     },
     "metadata": {},
     "output_type": "display_data"
    },
    {
     "data": {
      "text/plain": [
       "<Figure size 800x600 with 0 Axes>"
      ]
     },
     "metadata": {},
     "output_type": "display_data"
    },
    {
     "data": {
      "text/plain": [
       "<Figure size 800x600 with 0 Axes>"
      ]
     },
     "metadata": {},
     "output_type": "display_data"
    },
    {
     "data": {
      "text/plain": [
       "<Figure size 800x600 with 0 Axes>"
      ]
     },
     "metadata": {},
     "output_type": "display_data"
    },
    {
     "data": {
      "text/plain": [
       "<Figure size 800x600 with 0 Axes>"
      ]
     },
     "metadata": {},
     "output_type": "display_data"
    },
    {
     "data": {
      "text/plain": [
       "<Figure size 800x600 with 0 Axes>"
      ]
     },
     "metadata": {},
     "output_type": "display_data"
    },
    {
     "data": {
      "text/plain": [
       "<Figure size 800x600 with 0 Axes>"
      ]
     },
     "metadata": {},
     "output_type": "display_data"
    },
    {
     "data": {
      "text/plain": [
       "<Figure size 800x600 with 0 Axes>"
      ]
     },
     "metadata": {},
     "output_type": "display_data"
    },
    {
     "data": {
      "text/plain": [
       "<Figure size 800x600 with 0 Axes>"
      ]
     },
     "metadata": {},
     "output_type": "display_data"
    },
    {
     "data": {
      "text/plain": [
       "<Figure size 800x600 with 0 Axes>"
      ]
     },
     "metadata": {},
     "output_type": "display_data"
    },
    {
     "data": {
      "text/plain": [
       "<Figure size 800x600 with 0 Axes>"
      ]
     },
     "metadata": {},
     "output_type": "display_data"
    },
    {
     "data": {
      "text/plain": [
       "<Figure size 800x600 with 0 Axes>"
      ]
     },
     "metadata": {},
     "output_type": "display_data"
    }
   ],
   "source": [
    "\"\"\"\n",
    "WolframGraphPy: Examples for Each Function\n",
    "\"\"\"\n",
    "\n",
    "import matplotlib.pyplot as plt\n",
    "from wolfram_graph_py import *  # Import the library we created\n",
    "\n",
    "def show_examples():\n",
    "    \"\"\"Run examples for all functions in the WolframGraphPy library\"\"\"\n",
    "    \n",
    "    print(\"=\" * 50)\n",
    "    print(\"GRAPH CONSTRUCTION EXAMPLES\")\n",
    "    print(\"=\" * 50)\n",
    "    \n",
    "    # Example 1: Basic Graph\n",
    "    print(\"\\nExample 1: Basic Graph\")\n",
    "    G1 = Graph(5, [(1, 2), (2, 3), (3, 4), (4, 5), (5, 1)])\n",
    "    print(G1)\n",
    "    print(\"Vertices:\", G1.vertices())\n",
    "    print(\"Edges:\", G1.edges())\n",
    "    plt.figure(figsize=(8, 6))\n",
    "    G1.plot()\n",
    "    plt.title(\"Basic Graph Example\")\n",
    "    plt.savefig(\"example_basic_graph.png\")\n",
    "    plt.close()\n",
    "    \n",
    "    # Example 2: Directed Graph\n",
    "    print(\"\\nExample 2: Directed Graph\")\n",
    "    G2 = Graph(5, [(1, 2), (2, 3), (3, 4), (4, 5)], directed=True)\n",
    "    print(G2)\n",
    "    print(\"Edges with weights:\", G2.edges(with_weights=True))\n",
    "    plt.figure(figsize=(8, 6))\n",
    "    G2.plot()\n",
    "    plt.title(\"Directed Graph Example\")\n",
    "    plt.savefig(\"example_directed_graph.png\")\n",
    "    plt.close()\n",
    "    \n",
    "    # Example 3: Weighted Graph\n",
    "    print(\"\\nExample 3: Weighted Graph\")\n",
    "    G3 = Graph(4, [(1, 2, 0.5), (2, 3, 1.2), (3, 4, 2.1), (4, 1, 0.8)])\n",
    "    print(G3)\n",
    "    print(\"Edges with weights:\", G3.edges(with_weights=True))\n",
    "    plt.figure(figsize=(8, 6))\n",
    "    G3.plot()\n",
    "    plt.title(\"Weighted Graph Example\")\n",
    "    plt.savefig(\"example_weighted_graph.png\")\n",
    "    plt.close()\n",
    "    \n",
    "    # Example 4: CompleteGraph\n",
    "    print(\"\\nExample 4: CompleteGraph\")\n",
    "    K5 = CompleteGraph(5)\n",
    "    print(K5)\n",
    "    print(f\"Number of edges in K5: {len(K5.edges())} (should be {5 * 4 // 2})\")\n",
    "    plt.figure(figsize=(8, 6))\n",
    "    K5.plot(layout='circular')\n",
    "    plt.title(\"Complete Graph K5\")\n",
    "    plt.savefig(\"example_complete_graph.png\")\n",
    "    plt.close()\n",
    "    \n",
    "    # Example 5: CycleGraph\n",
    "    print(\"\\nExample 5: CycleGraph\")\n",
    "    C6 = CycleGraph(6)\n",
    "    print(C6)\n",
    "    print(\"Edges of C6:\", C6.edges())\n",
    "    plt.figure(figsize=(8, 6))\n",
    "    C6.plot(layout='circular')\n",
    "    plt.title(\"Cycle Graph C6\")\n",
    "    plt.savefig(\"example_cycle_graph.png\")\n",
    "    plt.close()\n",
    "    \n",
    "    # Example 6: PathGraph\n",
    "    print(\"\\nExample 6: PathGraph\")\n",
    "    P7 = PathGraph(7)\n",
    "    print(P7)\n",
    "    print(\"Edges of P7:\", P7.edges())\n",
    "    plt.figure(figsize=(8, 6))\n",
    "    P7.plot(layout='spring')\n",
    "    plt.title(\"Path Graph P7\")\n",
    "    plt.savefig(\"example_path_graph.png\")\n",
    "    plt.close()\n",
    "    \n",
    "    # Example 7: StarGraph\n",
    "    print(\"\\nExample 7: StarGraph\")\n",
    "    S8 = StarGraph(8)\n",
    "    print(S8)\n",
    "    print(\"Edges of S8:\", S8.edges())\n",
    "    plt.figure(figsize=(8, 6))\n",
    "    S8.plot()\n",
    "    plt.title(\"Star Graph S8\")\n",
    "    plt.savefig(\"example_star_graph.png\")\n",
    "    plt.close()\n",
    "    \n",
    "    # Example 8: WheelGraph\n",
    "    print(\"\\nExample 8: WheelGraph\")\n",
    "    W6 = WheelGraph(6)\n",
    "    print(W6)\n",
    "    print(\"Edges of W6:\", W6.edges())\n",
    "    plt.figure(figsize=(8, 6))\n",
    "    W6.plot()\n",
    "    plt.title(\"Wheel Graph W6\")\n",
    "    plt.savefig(\"example_wheel_graph.png\")\n",
    "    plt.close()\n",
    "    \n",
    "    # Example 9: GridGraph\n",
    "    print(\"\\nExample 9: GridGraph\")\n",
    "    grid = GridGraph(3, 4)\n",
    "    print(grid)\n",
    "    print(f\"Number of vertices in 3x4 grid: {len(grid.vertices())}\")\n",
    "    plt.figure(figsize=(8, 6))\n",
    "    grid.plot()\n",
    "    plt.title(\"Grid Graph 3x4\")\n",
    "    plt.savefig(\"example_grid_graph.png\")\n",
    "    plt.close()\n",
    "    \n",
    "    # Example 10: RandomGraph\n",
    "    print(\"\\nExample 10: RandomGraph\")\n",
    "    random_graph = RandomGraph(10, 0.3)\n",
    "    print(random_graph)\n",
    "    print(f\"Number of edges in random graph: {len(random_graph.edges())}\")\n",
    "    plt.figure(figsize=(8, 6))\n",
    "    random_graph.plot()\n",
    "    plt.title(\"Random Graph (n=10, p=0.3)\")\n",
    "    plt.savefig(\"example_random_graph.png\")\n",
    "    plt.close()\n",
    "    \n",
    "    # Example 11: DirectedGraph\n",
    "    print(\"\\nExample 11: DirectedGraph\")\n",
    "    directed_edges = [(1, 2), (2, 3), (3, 1), (3, 4), (4, 5), (5, 3)]\n",
    "    directed_graph = DirectedGraph(directed_edges)\n",
    "    print(directed_graph)\n",
    "    print(\"Is directed:\", directed_graph.directed)\n",
    "    plt.figure(figsize=(8, 6))\n",
    "    directed_graph.plot()\n",
    "    plt.title(\"Directed Graph Example\")\n",
    "    plt.savefig(\"example_directed_graph_function.png\")\n",
    "    plt.close()\n",
    "    \n",
    "    # Example 12: BipartiteGraph\n",
    "    print(\"\\nExample 12: BipartiteGraph\")\n",
    "    bipartite_edges = [(1, 4), (1, 5), (2, 4), (2, 6), (3, 5), (3, 6)]\n",
    "    bipartite = BipartiteGraph(3, 3, bipartite_edges)\n",
    "    print(bipartite)\n",
    "    plt.figure(figsize=(8, 6))\n",
    "    bipartite.plot()\n",
    "    plt.title(\"Bipartite Graph Example\")\n",
    "    plt.savefig(\"example_bipartite_graph.png\")\n",
    "    plt.close()\n",
    "    \n",
    "    # Example 13: CompleteBipartiteGraph\n",
    "    print(\"\\nExample 13: CompleteBipartiteGraph\")\n",
    "    K33 = CompleteBipartiteGraph(3, 3)\n",
    "    print(K33)\n",
    "    print(f\"Number of edges in K3,3: {len(K33.edges())} (should be {3 * 3})\")\n",
    "    plt.figure(figsize=(8, 6))\n",
    "    K33.plot()\n",
    "    plt.title(\"Complete Bipartite Graph K3,3\")\n",
    "    plt.savefig(\"example_complete_bipartite_graph.png\")\n",
    "    plt.close()\n",
    "    \n",
    "    print(\"\\n\" + \"=\" * 50)\n",
    "    print(\"GRAPH PROPERTIES AND OPERATIONS\")\n",
    "    print(\"=\" * 50)\n",
    "    \n",
    "    # Example 14: adjacency_matrix\n",
    "    print(\"\\nExample 14: adjacency_matrix\")\n",
    "    sample_graph = Graph(4, [(1, 2), (2, 3), (3, 4), (4, 1), (1, 3)])\n",
    "    print(\"Adjacency Matrix:\")\n",
    "    print(sample_graph.adjacency_matrix())\n",
    "    \n",
    "    # Example 15: degree\n",
    "    print(\"\\nExample 15: degree\")\n",
    "    print(\"Degree of vertex 1:\", sample_graph.degree(1))\n",
    "    print(\"Degrees of all vertices:\", sample_graph.degree())\n",
    "    \n",
    "    # Example 16: ShortestPath\n",
    "    print(\"\\nExample 16: ShortestPath\")\n",
    "    sp_graph = Graph(6, [(1, 2), (1, 3), (2, 4), (3, 4), (4, 5), (4, 6)])\n",
    "    path = ShortestPath(sp_graph, 1, 5)\n",
    "    print(f\"Shortest path from 1 to 5: {path}\")\n",
    "    \n",
    "    # Example 17: ConnectedComponents\n",
    "    print(\"\\nExample 17: ConnectedComponents\")\n",
    "    cc_graph = Graph(6, [(1, 2), (2, 3), (4, 5)])\n",
    "    components = ConnectedComponents(cc_graph)\n",
    "    print(f\"Connected components: {components}\")\n",
    "    \n",
    "    # Example 18: IsConnected\n",
    "    print(\"\\nExample 18: IsConnected\")\n",
    "    connected_graph = Graph(3, [(1, 2), (2, 3), (3, 1)])\n",
    "    disconnected_graph = Graph(4, [(1, 2), (3, 4)])\n",
    "    print(f\"Is connected_graph connected? {IsConnected(connected_graph)}\")\n",
    "    print(f\"Is disconnected_graph connected? {IsConnected(disconnected_graph)}\")\n",
    "    \n",
    "    # Example 19: Distance\n",
    "    print(\"\\nExample 19: Distance\")\n",
    "    dist_graph = Graph(5, [(1, 2), (2, 3), (3, 4), (4, 5)])\n",
    "    print(f\"Distance from 1 to 3: {Distance(dist_graph, 1, 3)}\")\n",
    "    print(f\"Distance from 1 to 5: {Distance(dist_graph, 1, 5)}\")\n",
    "    \n",
    "    # Example 20: GraphUnion\n",
    "    print(\"\\nExample 20: GraphUnion\")\n",
    "    graph1 = Graph(3, [(1, 2), (2, 3)])\n",
    "    graph2 = Graph(3, [(1, 3)])\n",
    "    union_graph = GraphUnion(graph1, graph2)\n",
    "    print(union_graph)\n",
    "    print(f\"Edges in union graph: {union_graph.edges()}\")\n",
    "    plt.figure(figsize=(8, 6))\n",
    "    union_graph.plot()\n",
    "    plt.title(\"Graph Union Example\")\n",
    "    plt.savefig(\"example_graph_union.png\")\n",
    "    plt.close()\n",
    "    \n",
    "    # Example 21: GraphProduct\n",
    "    print(\"\\nExample 21: GraphProduct (Cartesian)\")\n",
    "    P3 = PathGraph(3)\n",
    "    P2 = PathGraph(2)\n",
    "    product_graph = GraphProduct(P3, P2, product_type='cartesian')\n",
    "    print(product_graph)\n",
    "    print(f\"Vertices in product graph: {product_graph.vertices()}\")\n",
    "    plt.figure(figsize=(8, 6))\n",
    "    product_graph.plot()\n",
    "    plt.title(\"Graph Product Example (P3 × P2)\")\n",
    "    plt.savefig(\"example_graph_product.png\")\n",
    "    plt.close()\n",
    "    \n",
    "    # Example 22: GraphComplement\n",
    "    print(\"\\nExample 22: GraphComplement\")\n",
    "    C5 = CycleGraph(5)\n",
    "    C5_complement = GraphComplement(C5)\n",
    "    print(f\"Edges in C5: {C5.edges()}\")\n",
    "    print(f\"Edges in complement of C5: {C5_complement.edges()}\")\n",
    "    plt.figure(figsize=(8, 6))\n",
    "    C5.plot()\n",
    "    plt.title(\"Cycle Graph C5\")\n",
    "    plt.savefig(\"example_c5.png\")\n",
    "    plt.close()\n",
    "    plt.figure(figsize=(8, 6))\n",
    "    C5_complement.plot()\n",
    "    plt.title(\"Complement of Cycle Graph C5\")\n",
    "    plt.savefig(\"example_c5_complement.png\")\n",
    "    plt.close()\n",
    "    \n",
    "    print(\"\\n\" + \"=\" * 50)\n",
    "    print(\"SPECIALIZED GRAPH ALGORITHMS\")\n",
    "    print(\"=\" * 50)\n",
    "    \n",
    "    # Example 23: MinimumSpanningTree\n",
    "    print(\"\\nExample 23: MinimumSpanningTree\")\n",
    "    weighted_graph = Graph(5, [(1, 2, 2.0), (1, 3, 1.0), (2, 3, 3.0), \n",
    "                             (2, 4, 2.5), (3, 4, 1.5), (3, 5, 3.5), (4, 5, 0.5)])\n",
    "    mst = MinimumSpanningTree(weighted_graph)\n",
    "    print(mst)\n",
    "    print(f\"Edges in MST: {mst.edges(with_weights=True)}\")\n",
    "    plt.figure(figsize=(8, 6))\n",
    "    weighted_graph.plot()\n",
    "    plt.title(\"Original Weighted Graph\")\n",
    "    plt.savefig(\"example_weighted_graph_mst.png\")\n",
    "    plt.close()\n",
    "    plt.figure(figsize=(8, 6))\n",
    "    mst.plot()\n",
    "    plt.title(\"Minimum Spanning Tree\")\n",
    "    plt.savefig(\"example_mst.png\")\n",
    "    plt.close()\n",
    "    \n",
    "    # Example 24: TopologicalSort\n",
    "    print(\"\\nExample 24: TopologicalSort\")\n",
    "    dag = Graph(6, [(1, 2), (1, 3), (2, 4), (3, 4), (4, 5), (4, 6)], directed=True)\n",
    "    topo_sort = TopologicalSort(dag)\n",
    "    print(f\"Topological sorting: {topo_sort}\")\n",
    "    plt.figure(figsize=(8, 6))\n",
    "    dag.plot()\n",
    "    plt.title(\"Directed Acyclic Graph\")\n",
    "    plt.savefig(\"example_dag.png\")\n",
    "    plt.close()\n",
    "    \n",
    "    # Example 25: StronglyConnectedComponents\n",
    "    print(\"\\nExample 25: StronglyConnectedComponents\")\n",
    "    scc_graph = Graph(6, [(1, 2), (2, 3), (3, 1), (3, 4), (4, 5), (5, 6), (6, 4)], directed=True)\n",
    "    sccs = StronglyConnectedComponents(scc_graph)\n",
    "    print(f\"Strongly connected components: {sccs}\")\n",
    "    plt.figure(figsize=(8, 6))\n",
    "    scc_graph.plot()\n",
    "    plt.title(\"Graph with Strongly Connected Components\")\n",
    "    plt.savefig(\"example_scc_graph.png\")\n",
    "    plt.close()\n",
    "    \n",
    "    # Example 26: PageRank\n",
    "    print(\"\\nExample 26: PageRank\")\n",
    "    web_graph = Graph(4, [(1, 2), (1, 3), (2, 3), (2, 4), (3, 1), (3, 4), (4, 1)], directed=True)\n",
    "    pr = PageRank(web_graph)\n",
    "    print(\"PageRank values:\")\n",
    "    for node, rank in pr.items():\n",
    "        print(f\"  Node {node}: {rank:.4f}\")\n",
    "    \n",
    "    # Example 27: Dijkstra\n",
    "    print(\"\\nExample 27: Dijkstra\")\n",
    "    dijkstra_graph = Graph(5, [(1, 2, 1), (1, 3, 5), (2, 3, 2), (2, 4, 2), \n",
    "                            (3, 4, 1), (3, 5, 5), (4, 5, 1)])\n",
    "    distances = Dijkstra(dijkstra_graph, 1)\n",
    "    print(\"Shortest distances from node 1:\")\n",
    "    for node, dist in distances.items():\n",
    "        print(f\"  To node {node}: {dist}\")\n",
    "    plt.figure(figsize=(8, 6))\n",
    "    dijkstra_graph.plot()\n",
    "    plt.title(\"Weighted Graph for Dijkstra's Algorithm\")\n",
    "    plt.savefig(\"example_dijkstra_graph.png\")\n",
    "    plt.close()\n",
    "    \n",
    "    print(\"\\nAll examples completed!\")\n",
    "\n",
    "if __name__ == \"__main__\":\n",
    "    show_examples()"
   ]
  },
  {
   "cell_type": "code",
   "execution_count": 1,
   "metadata": {},
   "outputs": [
    {
     "name": "stdout",
     "output_type": "stream",
     "text": [
      "Maximum flow value: 18\n",
      "Flow on each edge:\n",
      "s -> a: 10\n",
      "s -> b: 8\n",
      "a -> b: 2\n",
      "a -> t: 8\n",
      "b -> t: 10\n"
     ]
    }
   ],
   "source": [
    "import networkx as nx\n",
    "\n",
    "# Create a flow network\n",
    "G = nx.DiGraph()\n",
    "G.add_edge('s', 'a', capacity=10)\n",
    "G.add_edge('s', 'b', capacity=8)\n",
    "G.add_edge('a', 'b', capacity=2)\n",
    "G.add_edge('a', 't', capacity=8)\n",
    "G.add_edge('b', 't', capacity=10)\n",
    "\n",
    "# Find maximum flow using preflow-push algorithm\n",
    "flow_value, flow_dict = nx.maximum_flow(G, 's', 't', flow_func=nx.algorithms.flow.preflow_push)\n",
    "\n",
    "print(f\"Maximum flow value: {flow_value}\")\n",
    "print(\"Flow on each edge:\")\n",
    "for u in flow_dict:\n",
    "    for v in flow_dict[u]:\n",
    "        print(f\"{u} -> {v}: {flow_dict[u][v]}\")"
   ]
  },
  {
   "cell_type": "code",
   "execution_count": 3,
   "metadata": {},
   "outputs": [
    {
     "ename": "ModuleNotFoundError",
     "evalue": "No module named 'ray'",
     "output_type": "error",
     "traceback": [
      "\u001b[0;31m---------------------------------------------------------------------------\u001b[0m",
      "\u001b[0;31mModuleNotFoundError\u001b[0m                       Traceback (most recent call last)",
      "Cell \u001b[0;32mIn[3], line 1\u001b[0m\n\u001b[0;32m----> 1\u001b[0m \u001b[38;5;28;01mimport\u001b[39;00m \u001b[38;5;21;01mray\u001b[39;00m\n\u001b[1;32m      2\u001b[0m ray\u001b[38;5;241m.\u001b[39minit()\n\u001b[1;32m      4\u001b[0m \u001b[38;5;129m@ray\u001b[39m\u001b[38;5;241m.\u001b[39mremote\n\u001b[1;32m      5\u001b[0m \u001b[38;5;28;01mdef\u001b[39;00m \u001b[38;5;21msquare\u001b[39m(n):\n",
      "\u001b[0;31mModuleNotFoundError\u001b[0m: No module named 'ray'"
     ]
    }
   ],
   "source": [
    "import ray\n",
    "ray.init()\n",
    "\n",
    "@ray.remote\n",
    "def square(n):\n",
    "    return n * n\n",
    "\n",
    "@ray.remote\n",
    "def double(n):\n",
    "    return n * 2\n",
    "\n",
    "@ray.remote\n",
    "def add(a, b):\n",
    "    return a + b\n",
    "\n",
    "# Create the task graph\n",
    "x = 5\n",
    "a = square.remote(x)\n",
    "b = double.remote(x)\n",
    "c = add.remote(a, b)\n",
    "\n",
    "# Get the result\n",
    "result = ray.get(c)\n",
    "print(f\"Result: {result}\")"
   ]
  },
  {
   "cell_type": "code",
   "execution_count": 2,
   "metadata": {},
   "outputs": [
    {
     "name": "stdout",
     "output_type": "stream",
     "text": [
      "Cut size: 433\n",
      "Number of partitions: 4\n"
     ]
    },
    {
     "data": {
      "image/png": "[encoded data removed]",
      "text/plain": [
       "<Figure size 640x480 with 1 Axes>"
      ]
     },
     "metadata": {},
     "output_type": "display_data"
    }
   ],
   "source": [
    "import networkx as nx\n",
    "import pymetis\n",
    "\n",
    "# 创建一个示例图\n",
    "G = nx.barbell_graph(30, 10)\n",
    "\n",
    "# 准备 PyMetis 需要的数据格式\n",
    "adjacency_list = [list(G.neighbors(node)) for node in range(G.number_of_nodes())]\n",
    "\n",
    "# 将图分成4个部分\n",
    "n_cuts, partitions = pymetis.part_graph(4, adjacency=adjacency_list)\n",
    "\n",
    "print(f\"Cut size: {n_cuts}\")\n",
    "print(f\"Number of partitions: {len(set(partitions))}\")\n",
    "\n",
    "# 可视化分区结果\n",
    "import matplotlib.pyplot as plt\n",
    "pos = nx.spring_layout(G, seed=42)\n",
    "\n",
    "colors = ['r', 'g', 'b', 'y']\n",
    "for i in range(4):\n",
    "    nx.draw_networkx_nodes(G, pos, \n",
    "                          nodelist=[n for n, p in enumerate(partitions) if p == i],\n",
    "                          node_color=colors[i], \n",
    "                          label=f\"Partition {i}\")\n",
    "\n",
    "nx.draw_networkx_edges(G, pos, alpha=0.5)\n",
    "plt.legend()\n",
    "plt.title(f\"Graph partitioned into 4 parts (cut size={n_cuts})\")\n",
    "plt.axis('off')\n",
    "plt.show()"
   ]
  },
  {
   "cell_type": "code",
   "execution_count": 1,
   "metadata": {},
   "outputs": [
    {
     "name": "stdout",
     "output_type": "stream",
     "text": [
      "Defaulting to user installation because normal site-packages is not writeable\n",
      "\u001b[31mERROR: Could not find a version that satisfies the requirement networkx-metis (from versions: none)\u001b[0m\u001b[31m\n",
      "\u001b[0m\u001b[31mERROR: No matching distribution found for networkx-metis\u001b[0m\u001b[31m\n",
      "\u001b[0mNote: you may need to restart the kernel to use updated packages.\n"
     ]
    }
   ],
   "source": [
    "pip install networkx-metis"
   ]
  }
 ],
 "metadata": {
  "kernelspec": {
   "display_name": "Python 3",
   "language": "python",
   "name": "python3"
  },
  "language_info": {
   "codemirror_mode": {
    "name": "ipython",
    "version": 3
   },
   "file_extension": ".py",
   "mimetype": "text/x-python",
   "name": "python",
   "nbconvert_exporter": "python",
   "pygments_lexer": "ipython3",
   "version": "3.10.12"
  }
 },
 "nbformat": 4,
 "nbformat_minor": 2
}
