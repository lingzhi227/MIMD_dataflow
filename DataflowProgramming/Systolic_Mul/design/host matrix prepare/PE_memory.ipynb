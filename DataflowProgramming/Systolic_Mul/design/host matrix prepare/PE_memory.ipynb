{
 "cells": [
  {
   "cell_type": "markdown",
   "metadata": {},
   "source": [
    "## Systolic Mul Local memory analysis\n",
    "\n",
    "Given a local storage capacity of **40KB** (i.e., **40960 bytes**) and assuming **Mt = Kt = Nt = M**, we want to determine the maximum value of **Mt** that can be supported.\n",
    "\n",
    "The total storage requirement is given by the formula:\n",
    "\n",
    "\n",
    "total storage = Nt × (Kt + Mt) × 4 bytes\n",
    "\n",
    "\n",
    "Since **Mt = Kt = Nt = M**, we simplify this to:\n",
    "\n",
    "\n",
    "total storage = M × (M + M) × 4 = 8M² bytes\n",
    "\n",
    "\n",
    "With the given storage capacity of **40960 bytes**, we can set up the equation:\n",
    "\n",
    "\n",
    "total storage = 8M² = 40960\n",
    "\n",
    "\n",
    "Solving for **M**:\n",
    "\n",
    "\n",
    "M² = 40960 / 8 = 5120\n",
    "M ≈ √5120 ≈ 71.6\n",
    "\n",
    "\n",
    "Thus, the maximum possible integer value for **Mt** is **71**."
   ]
  },
  {
   "cell_type": "markdown",
   "metadata": {},
   "source": [
    "## SUMMA local memory analysis\n",
    "\n",
    "I am running SUMMA on a 2d mesh of PEs called cerebras. It's a dataflow accelerator architecture. Each PE has a local L1 cache of 48KB that is used to store the tiles of A and B and temporary C, and buffered A and B tile for broadcasting.\n",
    "\n",
    "Here is the csl code, compile setup and the problems I am facing.\n",
    "\n",
    "Currently the problem seems to do with numerical stability. When P is set to 400. The numerical error rate increases with the size of matrix. You can see from problem description 1.\n",
    "\n",
    "When size of local tile matrix is restricted, Mt = 47, the numerical error increases with size of layout. When P=100, 200, the result is correct. When P=300, there will be 1 error. As P increases, the error rate grows. But overall error rate is small, which means the algorithm passes, but the numerical stability of SUMMA is not overcomed.\n",
    "\n",
    "I need you to help me judge if I am right. I need you to find the cause of the error. And at last, you need to give me some correct advices\n"
   ]
  },
  {
   "cell_type": "code",
   "execution_count": null,
   "metadata": {},
   "outputs": [
    {
     "name": "stdout",
     "output_type": "stream",
     "text": [
      "Required PE memory: 43.14 KB\n"
     ]
    }
   ],
   "source": [
    "#Data Structures on Each PE\n",
    "'''\n",
    "1.\tA_tile: Mt * Kt elements\n",
    "2.\tB_tile: Kt * Nt elements\n",
    "3.\tC_tile: Mt * Nt elements\n",
    "4.\tA_buffer: Mt * Kt elements\n",
    "5.\tB_buffer: Kt * Nt elements\n",
    "'''\n",
    "\n",
    "def calculate_single_pe_memory(Mt, Kt, Nt):\n",
    "    \"\"\"\n",
    "    Calculates the required memory for a single PE given the values of Mt, Kt, and Nt.\n",
    "    \n",
    "    Parameters:\n",
    "    Mt (int): Matrix dimension on one PE\n",
    "    Kt (int): Matrix dimension on one PE\n",
    "    Nt (int): Matrix dimension on one PE\n",
    "    \n",
    "    Returns:\n",
    "    float: Required PE memory in KB\n",
    "    \"\"\"\n",
    "    data_type_size = 4  # float32 is 4 bytes per element\n",
    "    \n",
    "    # Calculate the total number of elements\n",
    "    total_elements = (Mt * Kt) + (Kt * Nt) + (Mt * Nt) + (Mt * Kt) + (Kt * Nt)\n",
    "    \n",
    "    # Calculate the total bytes\n",
    "    total_bytes = total_elements * data_type_size\n",
    "    \n",
    "    # Calculate the required PE memory in KB\n",
    "    required_pe_memory = total_bytes / 1024\n",
    "    \n",
    "    return required_pe_memory\n",
    "\n",
    "# Example usage\n",
    "Mt = Kt = Nt = 47\n",
    "print(f\"Required PE memory: {calculate_single_pe_memory(Mt, Kt, Nt):.2f} KB\")"
   ]
  }
 ],
 "metadata": {
  "kernelspec": {
   "display_name": "Python 3",
   "language": "python",
   "name": "python3"
  },
  "language_info": {
   "codemirror_mode": {
    "name": "ipython",
    "version": 3
   },
   "file_extension": ".py",
   "mimetype": "text/x-python",
   "name": "python",
   "nbconvert_exporter": "python",
   "pygments_lexer": "ipython3",
   "version": "3.10.12"
  }
 },
 "nbformat": 4,
 "nbformat_minor": 2
}
