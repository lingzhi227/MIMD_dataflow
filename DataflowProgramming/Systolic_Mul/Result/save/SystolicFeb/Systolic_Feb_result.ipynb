{
 "cells": [
  {
   "cell_type": "code",
   "execution_count": 1,
   "metadata": {},
   "outputs": [
    {
     "name": "stdout",
     "output_type": "stream",
     "text": [
      "Extraction complete. Check output.txt for results.\n"
     ]
    }
   ],
   "source": [
    "import os\n",
    "import re\n",
    "import glob\n",
    "\n",
    "# Define the directory containing the files (current directory in this case)\n",
    "folder_path = '.'\n",
    "\n",
    "# Pattern for the output file names: python_job_*.out\n",
    "file_pattern = os.path.join(folder_path, \"python_job_*.out\")\n",
    "\n",
    "# Open the output file for writing results\n",
    "with open(\"output.txt\", \"w\") as outfile:\n",
    "    # Loop through each matching file\n",
    "    for file_path in glob.glob(file_pattern):\n",
    "        file_name = os.path.basename(file_path)\n",
    "        \n",
    "        # Read the entire file content\n",
    "        with open(file_path, \"r\") as infile:\n",
    "            content = infile.read()\n",
    "        \n",
    "        # Extract the parameter information.\n",
    "        # This regex looks for a sequence of key-value pairs like \"M: 1024, K: 1024, ...\" \n",
    "        params_match = re.search(\n",
    "            r\"(M:\\s*\\d+\\s*,\\s*K:\\s*\\d+\\s*,\\s*N:\\s*\\d+\\s*,\\s*Mt:\\s*\\d+\\s*,\\s*Kt:\\s*\\d+\\s*,\\s*Nt:\\s*\\d+\\s*,\\s*Pr:\\s*\\d+\\s*,\\s*Cycle:\\s*\\d+\\s*,\\s*Pc:\\s*\\d+\\s*,\\s*channel:\\s*\\d+\\s*,\\s*buffer:\\s*\\d+)\",\n",
    "            content\n",
    "        )\n",
    "        params_str = params_match.group(1) if params_match else \"Parameters not found\"\n",
    "\n",
    "        # Extract the machine time which follows \"Timestamps transfer done\"\n",
    "        machine_time_match = re.search(r\"Timestamps transfer done\\s*[:]\\s*([\\d.]+)\", content)\n",
    "        machine_time = machine_time_match.group(1) if machine_time_match else \"N/A\"\n",
    "        \n",
    "        # Extract the program time at the end of the file\n",
    "        program_time_match = re.search(r\"Program completed in\\s*[:]\\s*(\\S+)\", content)\n",
    "        program_time = program_time_match.group(1) if program_time_match else \"N/A\"\n",
    "        \n",
    "        # Create the output line following the specified format\n",
    "        output_line = (\n",
    "            f\"{file_name} {params_str}, machine time: {machine_time}, program time: {program_time}\\n\"\n",
    "        )\n",
    "        \n",
    "        # Write the output line to the output file\n",
    "        outfile.write(output_line)\n",
    "\n",
    "print(\"Extraction complete. Check output.txt for results.\")\n"
   ]
  },
  {
   "cell_type": "code",
   "execution_count": null,
   "metadata": {},
   "outputs": [
    {
     "name": "stdout",
     "output_type": "stream",
     "text": [
      "Extraction and ranking complete. Check output.xlsx for results.\n"
     ]
    }
   ],
   "source": [
    "import os\n",
    "import re\n",
    "import glob\n",
    "import pandas as pd\n",
    "\n",
    "# Define the directory containing the files (current directory)\n",
    "folder_path = '.'\n",
    "file_pattern = os.path.join(folder_path, \"python_job_*.out\")\n",
    "\n",
    "# List to hold dictionaries for each file's extracted data\n",
    "data = []\n",
    "\n",
    "# Define individual regex patterns for each parameter\n",
    "patterns = {\n",
    "    \"M\": r\"M:\\s*(\\d+)\",\n",
    "    \"K\": r\"K:\\s*(\\d+)\",\n",
    "    \"N\": r\"N:\\s*(\\d+)\",\n",
    "    \"Mt\": r\"Mt:\\s*(\\d+)\",\n",
    "    \"Kt\": r\"Kt:\\s*(\\d+)\",\n",
    "    \"Nt\": r\"Nt:\\s*(\\d+)\",\n",
    "    \"Pr\": r\"Pr:\\s*(\\d+)\",\n",
    "    \"Cycle\": r\"Cycle:\\s*(\\d+)\",\n",
    "    \"Pc\": r\"Pc:\\s*(\\d+)\",\n",
    "    \"channel\": r\"channel:\\s*(\\d+)\",\n",
    "    \"buffer\": r\"buffer:\\s*(\\d+)\"\n",
    "}\n",
    "\n",
    "# Process each matching file\n",
    "for file_path in glob.glob(file_pattern):\n",
    "    file_name = os.path.basename(file_path)\n",
    "    \n",
    "    # Read file content\n",
    "    with open(file_path, \"r\") as infile:\n",
    "        content = infile.read()\n",
    "    \n",
    "    # Dictionary to store extracted data for the file\n",
    "    file_data = {\"File Name\": file_name}\n",
    "    \n",
    "    # Extract each parameter individually using its pattern\n",
    "    for key, pattern in patterns.items():\n",
    "        match = re.search(pattern, content)\n",
    "        file_data[key] = int(match.group(1)) if match else None\n",
    "    \n",
    "    # Extract machine time\n",
    "    # This pattern allows an optional colon after the phrase and any whitespace\n",
    "    machine_time_match = re.search(r\"Timestamps transfer done\\s*:?\\s*([\\d.]+)\", content)\n",
    "    file_data[\"machine_time\"] = float(machine_time_match.group(1)) if machine_time_match else None\n",
    "\n",
    "    # Extract program time (assumed to be in a format like \"00:01:25\")\n",
    "    program_time_match = re.search(r\"Program completed in\\s*:?\\s*([\\d:]+)\", content)\n",
    "    file_data[\"program_time\"] = program_time_match.group(1) if program_time_match else None\n",
    "\n",
    "    data.append(file_data)\n",
    "\n",
    "# Create a DataFrame from the extracted data\n",
    "df = pd.DataFrame(data)\n",
    "\n",
    "# Write the DataFrame to an Excel file\n",
    "output_excel = \"Systolic_Feb_result.xlsx\"\n",
    "df.to_excel(output_excel, index=False)\n",
    "\n",
    "print(f\"Extraction complete. Check {output_excel} for results.\")\n"
   ]
  }
 ],
 "metadata": {
  "kernelspec": {
   "display_name": "Python 3",
   "language": "python",
   "name": "python3"
  },
  "language_info": {
   "codemirror_mode": {
    "name": "ipython",
    "version": 3
   },
   "file_extension": ".py",
   "mimetype": "text/x-python",
   "name": "python",
   "nbconvert_exporter": "python",
   "pygments_lexer": "ipython3",
   "version": "3.10.12"
  }
 },
 "nbformat": 4,
 "nbformat_minor": 2
}
